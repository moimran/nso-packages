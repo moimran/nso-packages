{
    "cells": [
        {
            "cell_type": "code",
            "execution_count": 1,
            "source": [
                "import ncs\n",
                "import os\n",
                "import sys\n",
                "import logging\n",
                "import subprocess\n",
                "\n",
                "\n",
                "OPER = {\n",
                "    1: 'MOP_CREATED',\n",
                "    2: 'MOP_DELETED',\n",
                "    3: 'MOP_MODIFIED',\n",
                "    4: 'MOP_VALUE_SET',\n",
                "    5: 'MOP_MOVED_AFTER',\n",
                "    6: 'MOP_ATTR_SET'\n",
                "}\n",
                "\n",
                "class DiffIterator(object):\n",
                "     def __init__(self):\n",
                "         self.count = 0\n",
                "     def __call__(self, kp, op, oldv, newv):\n",
                "         print('kp={0}, op={1}, oldv={2}, newv={3}'.format(\n",
                "                 str(kp), OPER[op], str(oldv), str(newv)))\n",
                "         self.count += 1\n",
                "         return ncs.ITER_RECURSE\n",
                "\n",
                "def compare(self):\n",
                "    print(\"Diff set:\")\n",
                "    self.diff_iterate(DiffIterator(), ncs.ITER_WANT_ATTR)"
            ],
            "outputs": [],
            "metadata": {}
        },
        {
            "cell_type": "code",
            "execution_count": 2,
            "source": [
                "ncs.maapi.Transaction.compare = compare\n",
                "m = ncs.maapi.Maapi()\n",
                "m.start_user_session('admin', 'system', [])\n",
                "trans = m.start_write_trans()\n",
                "root = ncs.maagic.get_root(trans)\n",
                "for device in root.ncs__devices.device:\n",
                "    check_sync_output = device.check_sync.request()\n",
                "    print(check_sync_output.result)"
            ],
            "outputs": [
                {
                    "output_type": "stream",
                    "name": "stdout",
                    "text": [
                        "in-sync\n",
                        "in-sync\n"
                    ]
                }
            ],
            "metadata": {}
        }
    ],
    "metadata": {
        "orig_nbformat": 4,
        "kernelspec": {
            "name": "python3",
            "display_name": "Python 3 (ipykernel)",
            "language": "python"
        },
        "language_info": {
            "name": "python",
            "version": "3.8.10",
            "mimetype": "text/x-python",
            "codemirror_mode": {
                "name": "ipython",
                "version": 3
            },
            "pygments_lexer": "ipython3",
            "nbconvert_exporter": "python",
            "file_extension": ".py"
        }
    },
    "nbformat": 4,
    "nbformat_minor": 2
}